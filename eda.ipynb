{
 "cells": [
  {
   "cell_type": "code",
   "execution_count": null,
   "id": "2b7cd3e9",
   "metadata": {},
   "outputs": [],
   "source": [
    "import pandas as pd\n",
    "import matplotlib.pyplot as plt\n",
    "import seaborn as sns\n",
    "\n",
    "%matplotlib inline"
   ]
  },
  {
   "cell_type": "markdown",
   "id": "fcf8df55",
   "metadata": {},
   "source": [
    "Bu bölümde, projede kullanacağımız temel verileri `.csv` dosyalarından yüklüyoruz:\n",
    "- results.csv → yarış sonuçları\n",
    "- races.csv → yarış bilgileri (tarih, yıl vs.)\n",
    "- drivers.csv → sürücü bilgileri\n",
    "- constructors.csv → takım bilgileri"
   ]
  },
  {
   "cell_type": "code",
   "execution_count": 39,
   "id": "d82a3507",
   "metadata": {},
   "outputs": [],
   "source": [
    "df_results = pd.read_csv(\"dataset/results.csv\")\n",
    "df_races = pd.read_csv(\"dataset/races.csv\")\n",
    "df_drivers = pd.read_csv(\"dataset/drivers.csv\")\n",
    "df_constructors = pd.read_csv(\"dataset/constructors.csv\")"
   ]
  },
  {
   "cell_type": "markdown",
   "id": "a0b373d4",
   "metadata": {},
   "source": [
    "Hedef Değişkenin Oluşturulması:\n",
    "Makine öğrenmesi modelimde tahmin etmeye çalışacağımız hedef, bir pilotun yarışı ilk 3 sırada tamamlayıp tamamlamadığı.\n",
    "`results.csv` dosyasındaki `positionOrder` değişkeni kullanılarak, `top3` adında ikili (binary) bir sınıflandırma etiketi oluşturuyoruz:\n",
    "   Eğer `positionOrder <= 3` ise: 1\n",
    "   Aksi halde: 0"
   ]
  },
  {
   "cell_type": "code",
   "execution_count": null,
   "id": "ea44ac8b",
   "metadata": {},
   "outputs": [],
   "source": [
    "# Yarışta ilk 3'e girip girmediğini belirten yeni sütun\n",
    "df_results['top3'] = df_results['positionOrder'].apply(lambda x: 1 if x <= 3 else 0)\n",
    "\n",
    "# Örnek ilk 5 veri\n",
    "df_results[['driverId', 'positionOrder', 'top3']].head()"
   ]
  },
  {
   "cell_type": "markdown",
   "id": "9cf8ed37",
   "metadata": {},
   "source": [
    "Veri Birleştirme (Merging):\n",
    "Modelde kullanacağımız öznitelikleri (feature) oluşturmak için, yarış sonuçları ile birlikte:\n",
    "- yarış bilgilerini (yarış yılı gibi),\n",
    "- pilot bilgilerini (milliyet gibi)\n",
    "- takım bilgilerini (takım ismi)\n",
    "birleştirerek tek bir tablo haline getireceğiz."
   ]
  },
  {
   "cell_type": "code",
   "execution_count": null,
   "id": "6fbc13dc",
   "metadata": {},
   "outputs": [],
   "source": [
    "# results + races → yarış yılı gibi bilgiler\n",
    "df = df_results.merge(df_races[['raceId', 'year', 'circuitId']], on='raceId', how='left')\n",
    "\n",
    "# results + drivers → milliyet gibi bilgiler\n",
    "df = df.merge(df_drivers[['driverId', 'nationality']], on='driverId', how='left')\n",
    "\n",
    "# results + constructors → takım ismi gibi bilgiler\n",
    "df = df.merge(df_constructors[['constructorId', 'name']], on='constructorId', how='left')\n",
    "\n",
    "# İlk 5 satıra bakalım\n",
    "df.head()"
   ]
  },
  {
   "cell_type": "markdown",
   "id": "38730001",
   "metadata": {},
   "source": [
    "Eksik Verilerin Kontrolü (Özel NaN Tanımıyla):\n",
    " Veri setinde bazı eksik değerler doğrudan `NaN` yerine `\"\\\\N\"` ya da boş string (`\"\"`) olarak kaydedilmiş olabilir.  \n",
    " Bu nedenle `na_values=[\"\\\\N\", \"\"]` argümanıyla CSV dosyalarını tekrar okuduk ve şimdi eksik verileri daha doğru şekilde analiz edebiliyoruz."
   ]
  },
  {
   "cell_type": "code",
   "execution_count": 26,
   "id": "aade3310",
   "metadata": {},
   "outputs": [],
   "source": [
    "# Eksik veri değerlerini algılayabilmesi için özel ayarlarla tekrar okuyoruz\n",
    "na_values = [\"\\\\N\", \"\"]  # Boşluk ve '\\N' stringleri artık NaN sayılacak\n",
    "\n",
    "df_results = pd.read_csv(\"results.csv\", na_values=na_values)\n",
    "df_races = pd.read_csv(\"races.csv\", na_values=na_values)\n",
    "df_drivers = pd.read_csv(\"drivers.csv\", na_values=na_values)\n",
    "df_constructors = pd.read_csv(\"constructors.csv\", na_values=na_values)\n",
    "\n",
    "# Hedef değişkeni tekrar oluştur\n",
    "df_results['top3'] = df_results['positionOrder'].apply(lambda x: 1 if x <= 3 else 0)\n",
    "\n",
    "# Verileri yeniden birleştir\n",
    "df = df_results.merge(df_races[['raceId', 'year', 'circuitId']], on='raceId', how='left')\n",
    "df = df.merge(df_drivers[['driverId', 'nationality']], on='driverId', how='left')\n",
    "df = df.merge(df_constructors[['constructorId', 'name']], on='constructorId', how='left')\n"
   ]
  },
  {
   "cell_type": "code",
   "execution_count": null,
   "id": "42b94032",
   "metadata": {},
   "outputs": [],
   "source": [
    "df.isnull().sum().sort_values(ascending=False)"
   ]
  },
  {
   "cell_type": "markdown",
   "id": "996ab159",
   "metadata": {},
   "source": [
    "Eksik Verilerin Temizlenmesi:\n",
    " Model eğitimi için gerekli olmayan, çok sayıda eksik veri içeren sütunları veri setimizden çıkartıyoruz.  \n",
    " Az sayıda eksik değere sahip sütunlarda ise, eksik değerleri uygun şekilde dolduruyoruz."
   ]
  },
  {
   "cell_type": "code",
   "execution_count": 29,
   "id": "a0e69612",
   "metadata": {},
   "outputs": [],
   "source": [
    "df.columns = df.columns.str.strip()"
   ]
  },
  {
   "cell_type": "code",
   "execution_count": null,
   "id": "07615061",
   "metadata": {},
   "outputs": [],
   "source": [
    "cols_to_drop = ['milliseconds', 'time', 'fastestLap', 'fastestLapTime', 'fastestLapSpeed', 'rank', 'position']\n",
    "existing_cols_to_drop = [col for col in cols_to_drop if col in df.columns]\n",
    "df.drop(columns=existing_cols_to_drop, inplace=True)"
   ]
  },
  {
   "cell_type": "code",
   "execution_count": 33,
   "id": "03e70e43",
   "metadata": {},
   "outputs": [],
   "source": [
    "df.dropna(subset=['number'], inplace=True)"
   ]
  },
  {
   "cell_type": "code",
   "execution_count": null,
   "id": "bd065f3f",
   "metadata": {},
   "outputs": [],
   "source": [
    "df.isnull().sum().sort_values(ascending=False)"
   ]
  },
  {
   "cell_type": "markdown",
   "id": "73ddfde7",
   "metadata": {},
   "source": [
    "Kategorik Verileri Sayısal Değerlere Çevirme (Label Encoding)\n",
    "\n",
    "Makine öğrenmesi modelleri, metin (kategorik) verileri doğrudan kullanamazlar. Bu nedenle, `nationality` (milliyet) ve `name` (takım adı) gibi kategorik sütunları sayısal değerlere dönüştürmemiz gerekir."
   ]
  },
  {
   "cell_type": "code",
   "execution_count": null,
   "id": "dbeba8e5",
   "metadata": {},
   "outputs": [],
   "source": [
    "from sklearn.preprocessing import LabelEncoder\n",
    "\n",
    "# Label Encoder nesnelerini oluşturuyoruz\n",
    "le_nationality = LabelEncoder()\n",
    "le_name = LabelEncoder()\n",
    "\n",
    "# 'nationality' sütununu sayısal hale çeviriyoruz\n",
    "df['nationality_enc'] = le_nationality.fit_transform(df['nationality'])\n",
    "\n",
    "# 'name' sütununu sayısal hale çeviriyoruz\n",
    "df['name_enc'] = le_name.fit_transform(df['name'])\n",
    "\n",
    "df[['nationality', 'nationality_enc', 'name', 'name_enc']].head()"
   ]
  },
  {
   "cell_type": "markdown",
   "id": "e940443b",
   "metadata": {},
   "source": [
    "Temizlenmiş ve ön işleme tabi tutulmuş veri setimizi pickle formatında kaydederek, ileride kolayca yükleyip kullanabiliriz."
   ]
  },
  {
   "cell_type": "code",
   "execution_count": 38,
   "id": "ca556669",
   "metadata": {},
   "outputs": [],
   "source": [
    "# Temizlenmiş veri setini pickle formatında kaydet\n",
    "df.to_pickle(\"f1_cleaned_data.pkl\")"
   ]
  }
 ],
 "metadata": {
  "kernelspec": {
   "display_name": "Python 3",
   "language": "python",
   "name": "python3"
  },
  "language_info": {
   "codemirror_mode": {
    "name": "ipython",
    "version": 3
   },
   "file_extension": ".py",
   "mimetype": "text/x-python",
   "name": "python",
   "nbconvert_exporter": "python",
   "pygments_lexer": "ipython3",
   "version": "3.11.9"
  }
 },
 "nbformat": 4,
 "nbformat_minor": 5
}
